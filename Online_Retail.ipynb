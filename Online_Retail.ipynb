{
  "nbformat": 4,
  "nbformat_minor": 0,
  "metadata": {
    "colab": {
      "provenance": [],
      "authorship_tag": "ABX9TyM5O5Hu+Ph4yrcUYpMRP305",
      "include_colab_link": true
    },
    "kernelspec": {
      "name": "python3",
      "display_name": "Python 3"
    },
    "language_info": {
      "name": "python"
    }
  },
  "cells": [
    {
      "cell_type": "markdown",
      "metadata": {
        "id": "view-in-github",
        "colab_type": "text"
      },
      "source": [
        "<a href=\"https://colab.research.google.com/github/HanyNaseer/ETLPipelineWithDocker/blob/main/Online_Retail.ipynb\" target=\"_parent\"><img src=\"https://colab.research.google.com/assets/colab-badge.svg\" alt=\"Open In Colab\"/></a>"
      ]
    },
    {
      "cell_type": "markdown",
      "source": [
        "**Load the Dataset**"
      ],
      "metadata": {
        "id": "28u_65MMUmM5"
      }
    },
    {
      "cell_type": "code",
      "source": [
        "import pandas as pd\n",
        "\n",
        "# Load the dataset with ISO-8859-1 encoding\n",
        "df = pd.read_csv('/content/OnlineRetail.csv', encoding='ISO-8859-1')\n",
        "\n",
        "# Take a quick look at the dataset\n",
        "print(df.head())\n"
      ],
      "metadata": {
        "id": "ucK8FJrWUSzs"
      },
      "execution_count": null,
      "outputs": []
    },
    {
      "cell_type": "markdown",
      "source": [
        "**Data Cleaning**"
      ],
      "metadata": {
        "id": "tSBxTwoJU9xz"
      }
    },
    {
      "cell_type": "code",
      "source": [
        "# Check for missing values\n",
        "print(df.isnull().sum())"
      ],
      "metadata": {
        "id": "Ma8S7QEfVGR-"
      },
      "execution_count": null,
      "outputs": []
    },
    {
      "cell_type": "code",
      "source": [
        "# Drop missing CustomerID and Description rows\n",
        "\n",
        "df_cleaned = df.dropna(subset=['CustomerID', 'Description'])"
      ],
      "metadata": {
        "id": "sncyb90PV0lh"
      },
      "execution_count": 27,
      "outputs": []
    },
    {
      "cell_type": "code",
      "source": [
        "# Remove duplicates\n",
        "\n",
        "df_cleaned = df_cleaned.drop_duplicates()"
      ],
      "metadata": {
        "id": "dS2Z5nWuV5ay"
      },
      "execution_count": 28,
      "outputs": []
    },
    {
      "cell_type": "markdown",
      "source": [
        "**Perform Basic Analysis**"
      ],
      "metadata": {
        "id": "Y3qDFwsrWywj"
      }
    },
    {
      "cell_type": "code",
      "source": [
        "# Total Sales per Country:\n",
        "# Add a new column that calculates total sales (UnitPrice * Quantity), then group the data by country.\n",
        "\n",
        "# Add a TotalSales column\n",
        "df_cleaned['TotalSales'] = df_cleaned['UnitPrice'] * df_cleaned['Quantity']\n",
        "\n",
        "# Group by Country and calculate total sales\n",
        "sales_by_country = df_cleaned.groupby('Country')['TotalSales'].sum().sort_values(ascending=False)\n",
        "print(sales_by_country)"
      ],
      "metadata": {
        "id": "6Ob6lFwxWYaJ"
      },
      "execution_count": null,
      "outputs": []
    },
    {
      "cell_type": "code",
      "source": [
        "# Top 10 Best-Selling Products\n",
        "# Find the best-selling products based on quantity sold.\n",
        "\n",
        "best_selling = df_cleaned.groupby('Description')['Quantity'].sum().sort_values(ascending=False).head(10)\n",
        "print(best_selling)"
      ],
      "metadata": {
        "id": "ri9-71ceXJN-"
      },
      "execution_count": null,
      "outputs": []
    },
    {
      "cell_type": "code",
      "source": [
        "# Revenue Over Time\n",
        "# Analyze the revenue by grouping the data by InvoiceDate and looking at trends over time.\n",
        "\n",
        "# Convert InvoiceDate to datetime\n",
        "df_cleaned['InvoiceDate'] = pd.to_datetime(df_cleaned['InvoiceDate'])\n",
        "\n",
        "# Group by month and calculate total sales\n",
        "df_cleaned['Month'] = df_cleaned['InvoiceDate'].dt.to_period('M')\n",
        "revenue_by_month = df_cleaned.groupby('Month')['TotalSales'].sum()\n",
        "\n",
        "print(revenue_by_month)"
      ],
      "metadata": {
        "id": "gdxUSdsVXWF1"
      },
      "execution_count": null,
      "outputs": []
    },
    {
      "cell_type": "markdown",
      "source": [
        "**Customer Analysis**"
      ],
      "metadata": {
        "id": "fea4eZmw1BtA"
      }
    },
    {
      "cell_type": "code",
      "source": [
        "# Who are the top buyers?\n",
        "# To find the top buyers, we’ll group the data by CustomerID and sum up their total spending.\n",
        "\n",
        "# Add a TotalSales column if it's not already added\n",
        "df['TotalSales'] = df['UnitPrice'] * df['Quantity']\n",
        "\n",
        "# Group by CustomerID and calculate total spending\n",
        "top_buyers = df.groupby('CustomerID')['TotalSales'].sum().sort_values(ascending=False).head(10)\n",
        "print(\"Top 10 Buyers:\")\n",
        "print(top_buyers)"
      ],
      "metadata": {
        "id": "NVMCAYt0YLvV"
      },
      "execution_count": null,
      "outputs": []
    },
    {
      "cell_type": "code",
      "source": [
        "# How often do they return?\n",
        "# To calculate how often a customer returns, we can count the number of unique invoices for each customer.\n",
        "\n",
        "# Group by CustomerID and count unique InvoiceNo to see how many times each customer made a purchase\n",
        "customer_frequency = df.groupby('CustomerID')['InvoiceNo'].nunique().sort_values(ascending=False).head(10)\n",
        "print(\"Top 10 Most Frequent Customers:\")\n",
        "print(customer_frequency)"
      ],
      "metadata": {
        "id": "BmMCUM9dzpUH"
      },
      "execution_count": null,
      "outputs": []
    },
    {
      "cell_type": "code",
      "source": [
        "# What is the average spend?\n",
        "# We can calculate the average spend per transaction for each customer.\n",
        "\n",
        "# Calculate average spend per transaction for each customer\n",
        "avg_spend = df.groupby('CustomerID')['TotalSales'].mean().sort_values(ascending=False).head(10)\n",
        "print(\"Top 10 Customers by Average Spend:\")\n",
        "print(avg_spend)"
      ],
      "metadata": {
        "id": "gpp6axVx0rY1"
      },
      "execution_count": null,
      "outputs": []
    },
    {
      "cell_type": "markdown",
      "source": [
        "**Returns Analysis**"
      ],
      "metadata": {
        "id": "8lOqLfIK1NUB"
      }
    },
    {
      "cell_type": "code",
      "source": [
        "\n",
        "# How much of the products are returned?\n",
        "# We'll calculate the total value of returns and compare it to total sales.\n",
        "\n",
        "# Filter out rows where Quantity is negative (returns)\n",
        "returns = df[df['Quantity'] < 0]\n",
        "\n",
        "# Calculate total returns and total sales\n",
        "total_returns = returns['TotalSales'].sum()\n",
        "total_sales = df['TotalSales'].sum()\n",
        "\n",
        "# Percentage of returns\n",
        "return_percentage = abs(total_returns) / total_sales * 100\n",
        "print(f\"Total Returns: {total_returns}\")\n",
        "print(f\"Percentage of Returns: {return_percentage:.2f}%\")"
      ],
      "metadata": {
        "colab": {
          "base_uri": "https://localhost:8080/"
        },
        "id": "rkhcOPvI0wxd",
        "outputId": "cf5207cd-c7d6-42fa-83c2-2f35b7ac9cc1"
      },
      "execution_count": 35,
      "outputs": [
        {
          "output_type": "stream",
          "name": "stdout",
          "text": [
            "Total Returns: -896812.49\n",
            "Percentage of Returns: 9.20%\n"
          ]
        }
      ]
    },
    {
      "cell_type": "markdown",
      "source": [
        "**Time-Series Trends**"
      ],
      "metadata": {
        "id": "CEnnTPgy177u"
      }
    },
    {
      "cell_type": "code",
      "source": [
        "# Daily, Weekly, and Monthly Sales Trends\n",
        "# We can analyze sales trends by grouping the data by day, week, or month. Let’s start by converting the InvoiceDate column to a datetime format (if not already done), and then group by different time periods.\n",
        "\n",
        "# Ensure InvoiceDate is in datetime format\n",
        "df['InvoiceDate'] = pd.to_datetime(df['InvoiceDate'])\n",
        "\n",
        "# Group by day and calculate total sales\n",
        "daily_sales = df.groupby(df['InvoiceDate'].dt.date)['TotalSales'].sum()\n",
        "print(\"Daily Sales:\")\n",
        "print(daily_sales)\n",
        "\n",
        "# Group by week and calculate total sales\n",
        "weekly_sales = df.groupby(df['InvoiceDate'].dt.to_period('W'))['TotalSales'].sum()\n",
        "print(\"Weekly Sales:\")\n",
        "print(weekly_sales)\n",
        "\n",
        "# Group by month and calculate total sales\n",
        "monthly_sales = df.groupby(df['InvoiceDate'].dt.to_period('M'))['TotalSales'].sum()\n",
        "print(\"Monthly Sales:\")\n",
        "print(monthly_sales)"
      ],
      "metadata": {
        "id": "YvZEOiFC17qv"
      },
      "execution_count": null,
      "outputs": []
    },
    {
      "cell_type": "markdown",
      "source": [
        "**Visualize the Data**"
      ],
      "metadata": {
        "id": "ZygJroqLXucG"
      }
    },
    {
      "cell_type": "code",
      "source": [
        "# Visualize Total Sales by Country:\n",
        "import matplotlib.pyplot as plt\n",
        "\n",
        "# Plot total sales by country\n",
        "sales_by_country.plot(kind='bar', figsize=(10, 6))\n",
        "plt.title('Total Sales by Country')\n",
        "plt.ylabel('Total Sales')\n",
        "plt.xlabel('Country')\n",
        "plt.show()\n"
      ],
      "metadata": {
        "id": "TDSMf8USXw9-"
      },
      "execution_count": null,
      "outputs": []
    },
    {
      "cell_type": "code",
      "source": [
        "# Top 10 Customers by Purchase Frequency\n",
        "customer_frequency = df.groupby('CustomerID')['InvoiceNo'].nunique().sort_values(ascending=False).head(10)\n",
        "\n",
        "plt.figure(figsize=(10, 6))\n",
        "customer_frequency.plot(kind='bar', color='salmon')\n",
        "plt.title(\"Top 10 Most Frequent Customers\")\n",
        "plt.xlabel(\"Customer ID\")\n",
        "plt.ylabel(\"Number of Purchases\")\n",
        "plt.show()\n"
      ],
      "metadata": {
        "id": "W5zdpk434ZzR"
      },
      "execution_count": null,
      "outputs": []
    },
    {
      "cell_type": "code",
      "source": [
        "# Top 10 Customers by Average Spend per Transaction\n",
        "avg_spend = df.groupby('CustomerID')['TotalSales'].mean().sort_values(ascending=False).head(10)\n",
        "\n",
        "plt.figure(figsize=(10, 6))\n",
        "avg_spend.plot(kind='bar', color='lightgreen')\n",
        "plt.title(\"Top 10 Customers by Average Spend per Transaction\")\n",
        "plt.xlabel(\"Customer ID\")\n",
        "plt.ylabel(\"Average Spend per Transaction\")\n",
        "plt.show()"
      ],
      "metadata": {
        "id": "9lM2w-9p4nUv"
      },
      "execution_count": null,
      "outputs": []
    },
    {
      "cell_type": "code",
      "source": [
        "# Top 10 Buyers by Total Spending\n",
        "top_buyers = df.groupby('CustomerID')['TotalSales'].sum().sort_values(ascending=False).head(10)\n",
        "\n",
        "plt.figure(figsize=(10, 6))\n",
        "top_buyers.plot(kind='bar', color='skyblue')\n",
        "plt.title(\"Top 10 Buyers by Total Spending\")\n",
        "plt.xlabel(\"Customer ID\")\n",
        "plt.ylabel(\"Total Spending\")\n",
        "plt.show()"
      ],
      "metadata": {
        "id": "l-mYGXi64D9k"
      },
      "execution_count": null,
      "outputs": []
    },
    {
      "cell_type": "code",
      "source": [
        "# Group by month to get monthly revenue\n",
        "monthly_revenue = df.groupby(df['InvoiceDate'].dt.to_period('M'))['TotalSales'].sum()\n",
        "\n",
        "plt.figure(figsize=(12, 6))\n",
        "monthly_revenue.plot(kind='line', color='blue')\n",
        "plt.title(\"Revenue Over Time (Monthly)\")\n",
        "plt.xlabel(\"Month\")\n",
        "plt.ylabel(\"Revenue\")\n",
        "plt.grid(True)\n",
        "plt.show()"
      ],
      "metadata": {
        "id": "OsgFMmfp5XMc"
      },
      "execution_count": null,
      "outputs": []
    },
    {
      "cell_type": "code",
      "source": [
        "# Returns Analysis - Pie chart of Returns vs Sales\n",
        "returns = df[df['Quantity'] < 0]['TotalSales'].sum()\n",
        "total_sales = df['TotalSales'].sum()\n",
        "sales_vs_returns = [abs(returns), total_sales - abs(returns)]\n",
        "\n",
        "plt.figure(figsize=(8, 8))\n",
        "plt.pie(sales_vs_returns, labels=['Returns', 'Sales'], autopct='%1.1f%%', colors=['#ff9999','#66b3ff'])\n",
        "plt.title(\"Percentage of Returns vs Sales\")\n",
        "plt.show()"
      ],
      "metadata": {
        "id": "YTpXeF6s4361"
      },
      "execution_count": null,
      "outputs": []
    },
    {
      "cell_type": "code",
      "source": [
        "# Plot daily sales\n",
        "plt.figure(figsize=(10, 6))\n",
        "daily_sales.plot()\n",
        "plt.title('Daily Sales Over Time')\n",
        "plt.ylabel('Total Sales')\n",
        "plt.xlabel('Date')\n",
        "plt.show()\n",
        "\n",
        "# Plot monthly sales\n",
        "plt.figure(figsize=(10, 6))\n",
        "monthly_sales.plot()\n",
        "plt.title('Monthly Sales Over Time')\n",
        "plt.ylabel('Total Sales')\n",
        "plt.xlabel('Month')\n",
        "plt.show()"
      ],
      "metadata": {
        "id": "yZxCdt4Q2b6M"
      },
      "execution_count": null,
      "outputs": []
    }
  ]
}